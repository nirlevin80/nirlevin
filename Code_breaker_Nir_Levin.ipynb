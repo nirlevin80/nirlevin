{
  "nbformat": 4,
  "nbformat_minor": 0,
  "metadata": {
    "colab": {
      "name": "Code breaker- Nir Levin.ipynb",
      "provenance": [],
      "collapsed_sections": [],
      "authorship_tag": "ABX9TyM84GMZ79P9Ui2ACTwE3ybS",
      "include_colab_link": true
    },
    "kernelspec": {
      "name": "python3",
      "display_name": "Python 3"
    },
    "language_info": {
      "name": "python"
    }
  },
  "cells": [
    {
      "cell_type": "markdown",
      "metadata": {
        "id": "view-in-github",
        "colab_type": "text"
      },
      "source": [
        "<a href=\"https://colab.research.google.com/github/nirlevin80/nirlevin/blob/main/Code_breaker_Nir_Levin.ipynb\" target=\"_parent\"><img src=\"https://colab.research.google.com/assets/colab-badge.svg\" alt=\"Open In Colab\"/></a>"
      ]
    },
    {
      "cell_type": "code",
      "source": [
        "# imports all libraries\n",
        "\n",
        "import random\n",
        "from IPython.display import clear_output\n",
        "import sys\n",
        "from termcolor import colored\n",
        "\n",
        "# turnments - multiplayer\n",
        "\n",
        "# visualization of color"
      ],
      "metadata": {
        "id": "gkxx5rEVF4Yg"
      },
      "execution_count": null,
      "outputs": []
    },
    {
      "cell_type": "code",
      "source": [
        "def humen_or_computer():\n",
        "  competition=''\n",
        "  while not (competition=='C' or competition=='H'):\n",
        "    competition = input(print(\"would you like to play agianst humen(H) or against computer (C)\")).upper()\n",
        "    \n",
        "  return competition"
      ],
      "metadata": {
        "id": "gf5hOpE8zwW2"
      },
      "execution_count": null,
      "outputs": []
    },
    {
      "cell_type": "code",
      "source": [
        "def score_calc(round,code_len):\n",
        "  # score calculation combines the difficulty (=lengh of the board) and the number of round it rooks the code breaker to crack the code.\n",
        "  score = (round-10)*-1 *code_len  \n",
        "  return score"
      ],
      "metadata": {
        "id": "ckFg-TGUbzk_"
      },
      "execution_count": null,
      "outputs": []
    },
    {
      "cell_type": "code",
      "execution_count": null,
      "metadata": {
        "id": "5DAPvReDcShN"
      },
      "outputs": [],
      "source": [
        "#defined game difficulty based on lengh of the code to break\n",
        "\n",
        "def game_difficulty():\n",
        "  len_board=0\n",
        "  game_diff=''\n",
        "  while not (game_diff=='1' or game_diff=='2' or game_diff=='3'):\n",
        "    game_diff = input(print(\"Pls choose game difficulty: Easy (1) / Medium (2) / Hard (3)\\n \"))\n",
        "    if game_diff=='1':\n",
        "      len_board=4\n",
        "    if game_diff=='2':\n",
        "      len_board=5\n",
        "    if game_diff=='3':\n",
        "      len_board=6\n",
        "    \n",
        "  return len_board\n",
        "\n",
        "\n"
      ]
    },
    {
      "cell_type": "code",
      "source": [
        "def generetae_code(code_len):\n",
        "  \n",
        "  lists_of_colors= ['G','R','B','W','Y','P']\n",
        "  generate=''\n",
        "  for i in range(code_len):\n",
        "    generate+=random.choice(lists_of_colors)\n",
        "  return generate"
      ],
      "metadata": {
        "id": "YdxW7p72EyYg"
      },
      "execution_count": null,
      "outputs": []
    },
    {
      "cell_type": "code",
      "source": [
        "def compare_guess(to_guess, new_guess):\n",
        "\n",
        "  bullseyes=0\n",
        "  Hits = 0\n",
        "  for i in range(len(to_guess)):\n",
        "    if to_guess[i]==new_guess[i]:\n",
        "      bullseyes+=1\n",
        "    else:\n",
        "      if new_guess[i] in to_guess:   #check if guess in the code but not in the right place\n",
        "        Hits+=1\n",
        "  return bullseyes,Hits"
      ],
      "metadata": {
        "id": "SWBjuNR9cbG7"
      },
      "execution_count": null,
      "outputs": []
    },
    {
      "cell_type": "code",
      "source": [
        "def legal_guess(new_guess):\n",
        "\n",
        "  lists_of_colors= ['G','R','B','W','Y','P']\n",
        "\n",
        "  for color in new_guess:\n",
        "    if color not in lists_of_colors:\n",
        "      return False\n",
        "\n",
        "  return True"
      ],
      "metadata": {
        "id": "cJzhVhN0tOY5"
      },
      "execution_count": null,
      "outputs": []
    },
    {
      "cell_type": "code",
      "source": [
        "# playing single game\n",
        "\n",
        "def code_breaker_game():\n",
        "  \n",
        "  game_map= []\n",
        "\n",
        "\n",
        "  green = colored(\"G-Green\", 'green')\n",
        "  red = colored(\"R-Red\", 'red')\n",
        "  blue = colored(\"B-Blue\", 'blue')\n",
        "  white = colored(\"W-White\", 'white')\n",
        "  yellow = colored(\"Y-Yellow\", 'yellow')\n",
        "  pink = colored(\"P-Pink\", 'magenta')\n",
        "  \n",
        "  print('Welcome to code breaker!')\n",
        "  print(\"------------------------\")\n",
        "  \n",
        "# \"humen_or_computer\":  check if user would like to play againt another person or vs computer\n",
        "  apponent= humen_or_computer()\n",
        "\n",
        "  to_guess=\"\"\n",
        "# defined game difficulty\n",
        "  code_len= game_difficulty()\n",
        "\n",
        "  if apponent=='C':\n",
        "    to_guess = generetae_code(code_len)\n",
        "\n",
        "  else:\n",
        "    is_legal_guess=False\n",
        "    while not is_legal_guess:\n",
        "      to_guess= input(print(\" Mastermind: pls enter code of size\",code_len, \"characters from availables colors: \",green,\" , \", red,\" , \",blue,\" , \", white,\" , \", yellow,\" , \", pink))\n",
        "      is_legal_guess = legal_guess(to_guess)\n",
        "      if is_legal_guess== False:\n",
        "        print(\"You entered an illegal color, pls try again\")\n",
        "       \n",
        "    clear_output()\n",
        "  \n",
        "  for i in range(10):\n",
        "    round=0\n",
        "    new_guess=''\n",
        "    is_legal_guess=False\n",
        "\n",
        "    while not is_legal_guess:\n",
        "     \n",
        "      new_guess= input(print(\" Code breaker: pls enter guess of size\",code_len,\"characters from availables colors: \",green,\" , \", red,\" , \",blue,\" , \", white,\" , \", yellow,\" , \", pink))\n",
        "      is_legal_guess = legal_guess(new_guess)\n",
        "      if is_legal_guess== False:\n",
        "        print(\"You entered an illegal color, pls try again\\n\")\n",
        "    round+=1\n",
        "    bullseyes, Hits = compare_guess(to_guess, new_guess)\n",
        "    game_map.append([new_guess,bullseyes,Hits])\n",
        "    \n",
        "    if bullseyes==code_len:\n",
        "      print(\"Code breaker: you cracked the code!!\\n\")\n",
        "      print(\"Thank you for playing code breaker game\\n\")\n",
        "      print(\"_______________________________________\\n\")\n",
        "      print(\"Code Breaker: check you scoring in the Score Board\\n\")\n",
        "      return score_calc(round,code_len)\n",
        "      \n",
        "\n",
        "    else:\n",
        "      print(\"Code breaker: you have\",bullseyes, \"bullseyes and\", Hits, \"Hits and\", code_len-Hits-bullseyes, \"misses\")\n",
        "      for i in game_map:\n",
        "        print(*i)\n",
        "\n",
        "  print(\"Code breaker: you lost, better luck next time :-(\")\n",
        "  \n",
        "  return 0"
      ],
      "metadata": {
        "id": "RSmCQkYEfFaL"
      },
      "execution_count": null,
      "outputs": []
    },
    {
      "cell_type": "code",
      "source": [
        "# main game function \n",
        "\n",
        "def code_breaker_wrapper():\n",
        "\n",
        "  score_dict={}\n",
        "\n",
        "  game_on=True\n",
        "\n",
        "  while game_on:\n",
        "\n",
        "    player_name=input(\"what is your name?: \\n\").upper()\n",
        "\n",
        "    score=code_breaker_game()\n",
        "\n",
        "    if player_name in score_dict:\n",
        "      score_dict[player_name]+=score\n",
        "\n",
        "    else:\n",
        "      score_dict[player_name]= score\n",
        "\n",
        "    print(\"current score board is:\", score_dict)\n",
        "\n",
        "\n",
        "    answer = input(print(\"Do you want to continue playing: ? Y=yes, N=no: \")).upper()\n",
        "    if answer =='Y':\n",
        "      game_on=True\n",
        "    else:\n",
        "      game_on=False\n",
        "    \n",
        "  print(\"Thank you for playing code breaker. hope you enjoyed it !\")"
      ],
      "metadata": {
        "id": "qE9ViPL2yrVJ"
      },
      "execution_count": null,
      "outputs": []
    },
    {
      "cell_type": "code",
      "source": [
        "code_breaker_wrapper()"
      ],
      "metadata": {
        "id": "9LKhG2u8cbMs",
        "colab": {
          "base_uri": "https://localhost:8080/",
          "height": 623
        },
        "outputId": "96955a36-ae85-4117-e4bf-b2fcf3ca3b72"
      },
      "execution_count": null,
      "outputs": [
        {
          "output_type": "stream",
          "name": "stdout",
          "text": [
            " Code breaker: pls enter guess of size 5 characters from availables colors:  \u001b[32mG-Green\u001b[0m  ,  \u001b[31mR-Red\u001b[0m  ,  \u001b[34mB-Blue\u001b[0m  ,  \u001b[37mW-White\u001b[0m  ,  \u001b[33mY-Yellow\u001b[0m  ,  \u001b[35mP-Pink\u001b[0m\n",
            "GGRR\n",
            "Code breaker: you have 4 bullseyes and 0 Hits and 1 misses\n",
            "GGRR 4 0\n",
            " Code breaker: pls enter guess of size 5 characters from availables colors:  \u001b[32mG-Green\u001b[0m  ,  \u001b[31mR-Red\u001b[0m  ,  \u001b[34mB-Blue\u001b[0m  ,  \u001b[37mW-White\u001b[0m  ,  \u001b[33mY-Yellow\u001b[0m  ,  \u001b[35mP-Pink\u001b[0m\n"
          ]
        },
        {
          "output_type": "error",
          "ename": "KeyboardInterrupt",
          "evalue": "ignored",
          "traceback": [
            "\u001b[0;31m---------------------------------------------------------------------------\u001b[0m",
            "\u001b[0;31mKeyboardInterrupt\u001b[0m                         Traceback (most recent call last)",
            "\u001b[0;32m/usr/local/lib/python3.7/dist-packages/ipykernel/kernelbase.py\u001b[0m in \u001b[0;36m_input_request\u001b[0;34m(self, prompt, ident, parent, password)\u001b[0m\n\u001b[1;32m    728\u001b[0m             \u001b[0;32mtry\u001b[0m\u001b[0;34m:\u001b[0m\u001b[0;34m\u001b[0m\u001b[0;34m\u001b[0m\u001b[0m\n\u001b[0;32m--> 729\u001b[0;31m                 \u001b[0mident\u001b[0m\u001b[0;34m,\u001b[0m \u001b[0mreply\u001b[0m \u001b[0;34m=\u001b[0m \u001b[0mself\u001b[0m\u001b[0;34m.\u001b[0m\u001b[0msession\u001b[0m\u001b[0;34m.\u001b[0m\u001b[0mrecv\u001b[0m\u001b[0;34m(\u001b[0m\u001b[0mself\u001b[0m\u001b[0;34m.\u001b[0m\u001b[0mstdin_socket\u001b[0m\u001b[0;34m,\u001b[0m \u001b[0;36m0\u001b[0m\u001b[0;34m)\u001b[0m\u001b[0;34m\u001b[0m\u001b[0;34m\u001b[0m\u001b[0m\n\u001b[0m\u001b[1;32m    730\u001b[0m             \u001b[0;32mexcept\u001b[0m \u001b[0mException\u001b[0m\u001b[0;34m:\u001b[0m\u001b[0;34m\u001b[0m\u001b[0;34m\u001b[0m\u001b[0m\n",
            "\u001b[0;32m/usr/local/lib/python3.7/dist-packages/jupyter_client/session.py\u001b[0m in \u001b[0;36mrecv\u001b[0;34m(self, socket, mode, content, copy)\u001b[0m\n\u001b[1;32m    802\u001b[0m         \u001b[0;32mtry\u001b[0m\u001b[0;34m:\u001b[0m\u001b[0;34m\u001b[0m\u001b[0;34m\u001b[0m\u001b[0m\n\u001b[0;32m--> 803\u001b[0;31m             \u001b[0mmsg_list\u001b[0m \u001b[0;34m=\u001b[0m \u001b[0msocket\u001b[0m\u001b[0;34m.\u001b[0m\u001b[0mrecv_multipart\u001b[0m\u001b[0;34m(\u001b[0m\u001b[0mmode\u001b[0m\u001b[0;34m,\u001b[0m \u001b[0mcopy\u001b[0m\u001b[0;34m=\u001b[0m\u001b[0mcopy\u001b[0m\u001b[0;34m)\u001b[0m\u001b[0;34m\u001b[0m\u001b[0;34m\u001b[0m\u001b[0m\n\u001b[0m\u001b[1;32m    804\u001b[0m         \u001b[0;32mexcept\u001b[0m \u001b[0mzmq\u001b[0m\u001b[0;34m.\u001b[0m\u001b[0mZMQError\u001b[0m \u001b[0;32mas\u001b[0m \u001b[0me\u001b[0m\u001b[0;34m:\u001b[0m\u001b[0;34m\u001b[0m\u001b[0;34m\u001b[0m\u001b[0m\n",
            "\u001b[0;32m/usr/local/lib/python3.7/dist-packages/zmq/sugar/socket.py\u001b[0m in \u001b[0;36mrecv_multipart\u001b[0;34m(self, flags, copy, track)\u001b[0m\n\u001b[1;32m    723\u001b[0m         \"\"\"\n\u001b[0;32m--> 724\u001b[0;31m         \u001b[0mparts\u001b[0m \u001b[0;34m=\u001b[0m \u001b[0;34m[\u001b[0m\u001b[0mself\u001b[0m\u001b[0;34m.\u001b[0m\u001b[0mrecv\u001b[0m\u001b[0;34m(\u001b[0m\u001b[0mflags\u001b[0m\u001b[0;34m,\u001b[0m \u001b[0mcopy\u001b[0m\u001b[0;34m=\u001b[0m\u001b[0mcopy\u001b[0m\u001b[0;34m,\u001b[0m \u001b[0mtrack\u001b[0m\u001b[0;34m=\u001b[0m\u001b[0mtrack\u001b[0m\u001b[0;34m)\u001b[0m\u001b[0;34m]\u001b[0m\u001b[0;34m\u001b[0m\u001b[0;34m\u001b[0m\u001b[0m\n\u001b[0m\u001b[1;32m    725\u001b[0m         \u001b[0;31m# have first part already, only loop while more to receive\u001b[0m\u001b[0;34m\u001b[0m\u001b[0;34m\u001b[0m\u001b[0;34m\u001b[0m\u001b[0m\n",
            "\u001b[0;32mzmq/backend/cython/socket.pyx\u001b[0m in \u001b[0;36mzmq.backend.cython.socket.Socket.recv\u001b[0;34m()\u001b[0m\n",
            "\u001b[0;32mzmq/backend/cython/socket.pyx\u001b[0m in \u001b[0;36mzmq.backend.cython.socket.Socket.recv\u001b[0;34m()\u001b[0m\n",
            "\u001b[0;32mzmq/backend/cython/socket.pyx\u001b[0m in \u001b[0;36mzmq.backend.cython.socket._recv_copy\u001b[0;34m()\u001b[0m\n",
            "\u001b[0;32m/usr/local/lib/python3.7/dist-packages/zmq/backend/cython/checkrc.pxd\u001b[0m in \u001b[0;36mzmq.backend.cython.checkrc._check_rc\u001b[0;34m()\u001b[0m\n",
            "\u001b[0;31mKeyboardInterrupt\u001b[0m: ",
            "\nDuring handling of the above exception, another exception occurred:\n",
            "\u001b[0;31mKeyboardInterrupt\u001b[0m                         Traceback (most recent call last)",
            "\u001b[0;32m<ipython-input-149-5634ca8e4ed7>\u001b[0m in \u001b[0;36m<module>\u001b[0;34m()\u001b[0m\n\u001b[0;32m----> 1\u001b[0;31m \u001b[0mcode_breaker_wrapper\u001b[0m\u001b[0;34m(\u001b[0m\u001b[0;34m)\u001b[0m\u001b[0;34m\u001b[0m\u001b[0;34m\u001b[0m\u001b[0m\n\u001b[0m",
            "\u001b[0;32m<ipython-input-148-5e33838b5794>\u001b[0m in \u001b[0;36mcode_breaker_wrapper\u001b[0;34m()\u001b[0m\n\u001b[1;32m     11\u001b[0m     \u001b[0mplayer_name\u001b[0m\u001b[0;34m=\u001b[0m\u001b[0minput\u001b[0m\u001b[0;34m(\u001b[0m\u001b[0;34m\"what is your name?: \\n\"\u001b[0m\u001b[0;34m)\u001b[0m\u001b[0;34m.\u001b[0m\u001b[0mupper\u001b[0m\u001b[0;34m(\u001b[0m\u001b[0;34m)\u001b[0m\u001b[0;34m\u001b[0m\u001b[0;34m\u001b[0m\u001b[0m\n\u001b[1;32m     12\u001b[0m \u001b[0;34m\u001b[0m\u001b[0m\n\u001b[0;32m---> 13\u001b[0;31m     \u001b[0mscore\u001b[0m\u001b[0;34m=\u001b[0m\u001b[0mcode_breaker_game\u001b[0m\u001b[0;34m(\u001b[0m\u001b[0;34m)\u001b[0m\u001b[0;34m\u001b[0m\u001b[0;34m\u001b[0m\u001b[0m\n\u001b[0m\u001b[1;32m     14\u001b[0m \u001b[0;34m\u001b[0m\u001b[0m\n\u001b[1;32m     15\u001b[0m     \u001b[0;32mif\u001b[0m \u001b[0mplayer_name\u001b[0m \u001b[0;32min\u001b[0m \u001b[0mscore_dict\u001b[0m\u001b[0;34m:\u001b[0m\u001b[0;34m\u001b[0m\u001b[0;34m\u001b[0m\u001b[0m\n",
            "\u001b[0;32m<ipython-input-147-bbdb163d01f1>\u001b[0m in \u001b[0;36mcode_breaker_game\u001b[0;34m()\u001b[0m\n\u001b[1;32m     43\u001b[0m     \u001b[0;32mwhile\u001b[0m \u001b[0;32mnot\u001b[0m \u001b[0mis_legal_guess\u001b[0m\u001b[0;34m:\u001b[0m\u001b[0;34m\u001b[0m\u001b[0;34m\u001b[0m\u001b[0m\n\u001b[1;32m     44\u001b[0m \u001b[0;34m\u001b[0m\u001b[0m\n\u001b[0;32m---> 45\u001b[0;31m       \u001b[0mnew_guess\u001b[0m\u001b[0;34m=\u001b[0m \u001b[0minput\u001b[0m\u001b[0;34m(\u001b[0m\u001b[0mprint\u001b[0m\u001b[0;34m(\u001b[0m\u001b[0;34m\" Code breaker: pls enter guess of size\"\u001b[0m\u001b[0;34m,\u001b[0m\u001b[0mcode_len\u001b[0m\u001b[0;34m,\u001b[0m\u001b[0;34m\"characters from availables colors: \"\u001b[0m\u001b[0;34m,\u001b[0m\u001b[0mgreen\u001b[0m\u001b[0;34m,\u001b[0m\u001b[0;34m\" , \"\u001b[0m\u001b[0;34m,\u001b[0m \u001b[0mred\u001b[0m\u001b[0;34m,\u001b[0m\u001b[0;34m\" , \"\u001b[0m\u001b[0;34m,\u001b[0m\u001b[0mblue\u001b[0m\u001b[0;34m,\u001b[0m\u001b[0;34m\" , \"\u001b[0m\u001b[0;34m,\u001b[0m \u001b[0mwhite\u001b[0m\u001b[0;34m,\u001b[0m\u001b[0;34m\" , \"\u001b[0m\u001b[0;34m,\u001b[0m \u001b[0myellow\u001b[0m\u001b[0;34m,\u001b[0m\u001b[0;34m\" , \"\u001b[0m\u001b[0;34m,\u001b[0m \u001b[0mpink\u001b[0m\u001b[0;34m)\u001b[0m\u001b[0;34m)\u001b[0m\u001b[0;34m\u001b[0m\u001b[0;34m\u001b[0m\u001b[0m\n\u001b[0m\u001b[1;32m     46\u001b[0m       \u001b[0mis_legal_guess\u001b[0m \u001b[0;34m=\u001b[0m \u001b[0mlegal_guess\u001b[0m\u001b[0;34m(\u001b[0m\u001b[0mnew_guess\u001b[0m\u001b[0;34m)\u001b[0m\u001b[0;34m\u001b[0m\u001b[0;34m\u001b[0m\u001b[0m\n\u001b[1;32m     47\u001b[0m       \u001b[0;32mif\u001b[0m \u001b[0mis_legal_guess\u001b[0m\u001b[0;34m==\u001b[0m \u001b[0;32mFalse\u001b[0m\u001b[0;34m:\u001b[0m\u001b[0;34m\u001b[0m\u001b[0;34m\u001b[0m\u001b[0m\n",
            "\u001b[0;32m/usr/local/lib/python3.7/dist-packages/ipykernel/kernelbase.py\u001b[0m in \u001b[0;36mraw_input\u001b[0;34m(self, prompt)\u001b[0m\n\u001b[1;32m    702\u001b[0m             \u001b[0mself\u001b[0m\u001b[0;34m.\u001b[0m\u001b[0m_parent_ident\u001b[0m\u001b[0;34m,\u001b[0m\u001b[0;34m\u001b[0m\u001b[0;34m\u001b[0m\u001b[0m\n\u001b[1;32m    703\u001b[0m             \u001b[0mself\u001b[0m\u001b[0;34m.\u001b[0m\u001b[0m_parent_header\u001b[0m\u001b[0;34m,\u001b[0m\u001b[0;34m\u001b[0m\u001b[0;34m\u001b[0m\u001b[0m\n\u001b[0;32m--> 704\u001b[0;31m             \u001b[0mpassword\u001b[0m\u001b[0;34m=\u001b[0m\u001b[0;32mFalse\u001b[0m\u001b[0;34m,\u001b[0m\u001b[0;34m\u001b[0m\u001b[0;34m\u001b[0m\u001b[0m\n\u001b[0m\u001b[1;32m    705\u001b[0m         )\n\u001b[1;32m    706\u001b[0m \u001b[0;34m\u001b[0m\u001b[0m\n",
            "\u001b[0;32m/usr/local/lib/python3.7/dist-packages/ipykernel/kernelbase.py\u001b[0m in \u001b[0;36m_input_request\u001b[0;34m(self, prompt, ident, parent, password)\u001b[0m\n\u001b[1;32m    732\u001b[0m             \u001b[0;32mexcept\u001b[0m \u001b[0mKeyboardInterrupt\u001b[0m\u001b[0;34m:\u001b[0m\u001b[0;34m\u001b[0m\u001b[0;34m\u001b[0m\u001b[0m\n\u001b[1;32m    733\u001b[0m                 \u001b[0;31m# re-raise KeyboardInterrupt, to truncate traceback\u001b[0m\u001b[0;34m\u001b[0m\u001b[0;34m\u001b[0m\u001b[0;34m\u001b[0m\u001b[0m\n\u001b[0;32m--> 734\u001b[0;31m                 \u001b[0;32mraise\u001b[0m \u001b[0mKeyboardInterrupt\u001b[0m\u001b[0;34m\u001b[0m\u001b[0;34m\u001b[0m\u001b[0m\n\u001b[0m\u001b[1;32m    735\u001b[0m             \u001b[0;32melse\u001b[0m\u001b[0;34m:\u001b[0m\u001b[0;34m\u001b[0m\u001b[0;34m\u001b[0m\u001b[0m\n\u001b[1;32m    736\u001b[0m                 \u001b[0;32mbreak\u001b[0m\u001b[0;34m\u001b[0m\u001b[0;34m\u001b[0m\u001b[0m\n",
            "\u001b[0;31mKeyboardInterrupt\u001b[0m: "
          ]
        }
      ]
    },
    {
      "cell_type": "code",
      "source": [
        ""
      ],
      "metadata": {
        "id": "zhiB2O3j9Mmn"
      },
      "execution_count": null,
      "outputs": []
    }
  ]
}